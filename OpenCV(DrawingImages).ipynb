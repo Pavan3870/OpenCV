{
 "cells": [
  {
   "cell_type": "code",
   "execution_count": 1,
   "id": "d2f32e55",
   "metadata": {},
   "outputs": [],
   "source": [
    "import cv2\n",
    "import numpy as np"
   ]
  },
  {
   "cell_type": "code",
   "execution_count": 5,
   "id": "eb185749",
   "metadata": {},
   "outputs": [],
   "source": [
    "#Creating a black Image\n",
    "\n",
    "image = np.zeros((256,512,3),np.uint8)\n",
    "cv2.imshow('Black-Rectangle(color)',image)\n",
    "cv2.waitKey(100000)\n",
    "\n",
    "image_bw = np.zeros((512,512,),np.uint8)\n",
    "cv2.imshow('Black-Square(BW)',image_bw)\n",
    "cv2.waitKey(100000)\n",
    "\n",
    "cv2.destroyAllWindows()"
   ]
  },
  {
   "cell_type": "code",
   "execution_count": 9,
   "id": "778e5cdc",
   "metadata": {},
   "outputs": [],
   "source": [
    "# BGR(Blue,Green,Red) Format\n",
    "# Draw a diagonal line of thickness 5pixels\n",
    "\n",
    "# cv2.line(image, Starting vertex(x1,y1), Ending vertex(x2,y2), color, thickness)\n",
    "\n",
    "cv2.line(image,(0,0),(511, 255), (255, 127, 65), 10)\n",
    "cv2.imshow('Line',image)\n",
    "cv2.waitKey()\n",
    "cv2.destroyAllWindows()"
   ]
  },
  {
   "cell_type": "code",
   "execution_count": 18,
   "id": "c3792987",
   "metadata": {},
   "outputs": [],
   "source": [
    "# Let's draw a rectangle\n",
    "# cv2.rectangle(image,  Starting vertex(x1,y1), Ending vertex(x2,y2), color, thickness)\n",
    "\n",
    "image = np.zeros((256,512,3), np.uint8)\n",
    "cv2.rectangle(image,(100,100), (600,650), (255,65,0), 2)\n",
    "cv2.imshow('Rectangle',image)\n",
    "cv2.waitKey()\n",
    "cv2.destroyAllWindows()"
   ]
  },
  {
   "cell_type": "code",
   "execution_count": 20,
   "id": "fa9ba0cf",
   "metadata": {},
   "outputs": [],
   "source": [
    "# Let's draw a Circle\n",
    "# cv2.circle(image,  center(x1,y1), radius, color, thickness)\n",
    "\n",
    "image = np.zeros((256,512,3), np.uint8)\n",
    "cv2.circle(image,(100,100), 50, (255,65,0), 2)\n",
    "cv2.imshow('Circle',image)\n",
    "cv2.waitKey()\n",
    "cv2.destroyAllWindows()"
   ]
  },
  {
   "cell_type": "code",
   "execution_count": 35,
   "id": "898b6f73",
   "metadata": {},
   "outputs": [],
   "source": [
    "# Add text with cv2.putText\n",
    "\n",
    "# cv2.putText(image, 'Text to Display', bottom left starting point, Font, Font Size, Color, Thickness)\n",
    "\n",
    "'''\n",
    "FONT_HERSHEY_SIMPLEX, FONT_HERSHEY_PLAIN, FONT_HERSHEY_DUPLEX, FONT_HERSHEY_COMPLEX\n",
    "\n",
    "FONT_HERSHEY_TRIPLEX, FONT_HERSHEY_COMPLEX_SMALL\n",
    "\n",
    "FONT_HERSHEY_SCRIPT_SIMPLEX\n",
    "\n",
    "FONT_HERSHEY_SCRIPT_COMPLEX\n",
    "'''\n",
    "\n",
    "image = np.zeros((256,512,3), np.uint8)\n",
    "cv2.putText(image,'HEY SUNSHINE', (30,150),cv2.FONT_HERSHEY_DUPLEX, 2, (5,787,0), 2)\n",
    "cv2.imshow('Greeting',image)\n",
    "cv2.waitKey()\n",
    "cv2.destroyAllWindows()"
   ]
  },
  {
   "cell_type": "code",
   "execution_count": null,
   "id": "2f3f885b",
   "metadata": {},
   "outputs": [],
   "source": []
  }
 ],
 "metadata": {
  "kernelspec": {
   "display_name": "Python 3 (ipykernel)",
   "language": "python",
   "name": "python3"
  },
  "language_info": {
   "codemirror_mode": {
    "name": "ipython",
    "version": 3
   },
   "file_extension": ".py",
   "mimetype": "text/x-python",
   "name": "python",
   "nbconvert_exporter": "python",
   "pygments_lexer": "ipython3",
   "version": "3.9.13"
  }
 },
 "nbformat": 4,
 "nbformat_minor": 5
}

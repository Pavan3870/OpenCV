{
 "cells": [
  {
   "cell_type": "code",
   "execution_count": 1,
   "id": "fa53cca0",
   "metadata": {},
   "outputs": [],
   "source": [
    "import cv2\n",
    "import numpy as np"
   ]
  },
  {
   "cell_type": "code",
   "execution_count": 2,
   "id": "01366e8e",
   "metadata": {},
   "outputs": [],
   "source": [
    "image = cv2.imread(r'C:\\Users\\Pavan\\Desktop\\Canada\\DigitalPhoto.jpg')\n",
    "cv2.imshow('Original',image)\n",
    "cv2.waitKey()\n",
    "cv2.destroyAllWindows()"
   ]
  },
  {
   "cell_type": "code",
   "execution_count": 8,
   "id": "9ec5aa3e",
   "metadata": {},
   "outputs": [],
   "source": [
    "cv2.imshow('Original',image)\n",
    "cv2.waitKey()\n",
    "\n",
    "# Values below 127 goes 0  (black), the values above 127 goes 255 (white)\n",
    "_, thresh1 = cv2.threshold(image, 127, 255, cv2.THRESH_BINARY)\n",
    "cv2.imshow('Threshold-Image', thresh1)\n",
    "cv2.waitKey()\n",
    "\n",
    "# Values below 127 goes 255 (white), the values above 127 goes 0 (black)\n",
    "_, thresh2 = cv2.threshold(image, 127, 255, cv2.THRESH_BINARY_INV)\n",
    "cv2.imshow('Thresh_INV-Image', thresh2)\n",
    "cv2.waitKey()\n",
    "\n",
    "# The Values above 127 Stuck at 127, the values below 127 remains same\n",
    "_, thresh3 = cv2.threshold(image, 127, 255, cv2.THRESH_TRUNC)\n",
    "cv2.imshow('Thresh_Trunc-Image', thresh3)\n",
    "cv2.waitKey()\n",
    "\n",
    "# Values below 127 goes 0, the values above 127 remains Unchanged\n",
    "_, thresh4 = cv2.threshold(image, 127, 255, cv2.THRESH_TOZERO)\n",
    "cv2.imshow('Thresh_TOZERO-Image', thresh4)\n",
    "cv2.waitKey()\n",
    "\n",
    "# Values below 127 remains Unchanged, the values above 127 goes 0.\n",
    "_, thresh5 = cv2.threshold(image, 127, 255, cv2.THRESH_TOZERO_INV)\n",
    "cv2.imshow('Thresh_TOZERO_INV-Image', thresh5)\n",
    "cv2.waitKey()\n",
    "\n",
    "cv2.destroyAllWindows()"
   ]
  },
  {
   "cell_type": "code",
   "execution_count": null,
   "id": "3b85ba44",
   "metadata": {},
   "outputs": [],
   "source": []
  }
 ],
 "metadata": {
  "kernelspec": {
   "display_name": "Python 3 (ipykernel)",
   "language": "python",
   "name": "python3"
  },
  "language_info": {
   "codemirror_mode": {
    "name": "ipython",
    "version": 3
   },
   "file_extension": ".py",
   "mimetype": "text/x-python",
   "name": "python",
   "nbconvert_exporter": "python",
   "pygments_lexer": "ipython3",
   "version": "3.9.13"
  }
 },
 "nbformat": 4,
 "nbformat_minor": 5
}

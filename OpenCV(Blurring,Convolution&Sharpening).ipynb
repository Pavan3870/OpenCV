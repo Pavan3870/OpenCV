{
 "cells": [
  {
   "cell_type": "code",
   "execution_count": 1,
   "id": "5a479612",
   "metadata": {},
   "outputs": [],
   "source": [
    "import cv2\n",
    "import numpy as np"
   ]
  },
  {
   "cell_type": "code",
   "execution_count": 2,
   "id": "881b7928",
   "metadata": {},
   "outputs": [],
   "source": [
    "image = cv2.imread(r'C:\\Users\\Pavan\\Desktop\\Canada\\DigitalPhoto.jpg')\n",
    "cv2.imshow('Original',image)\n",
    "cv2.waitKey()\n",
    "\n",
    "kernel = np.ones((3,3),np.float32)/9\n",
    "blurred = cv2.filter2D(image, -1, kernel)\n",
    "cv2.imshow('Blurred Image',blurred)\n",
    "cv2.waitKey()\n",
    "\n",
    "cv2.destroyAllWindows()"
   ]
  },
  {
   "cell_type": "code",
   "execution_count": 3,
   "id": "1a98e395",
   "metadata": {},
   "outputs": [],
   "source": [
    "cv2.imshow('Original',image)\n",
    "cv2.waitKey()\n",
    "\n",
    "kernel = np.ones((7,7),np.float32)/49\n",
    "blurred = cv2.filter2D(image, -1, kernel)\n",
    "cv2.imshow('Blurred Image',blurred)\n",
    "cv2.waitKey()\n",
    "\n",
    "cv2.destroyAllWindows()"
   ]
  },
  {
   "cell_type": "code",
   "execution_count": 4,
   "id": "06e8af3c",
   "metadata": {},
   "outputs": [],
   "source": [
    "cv2.imshow('Original',image)\n",
    "cv2.waitKey()\n",
    "\n",
    "img1 = cv2.blur(image, (3,3))\n",
    "cv2.imshow('Blur',img1)\n",
    "cv2.waitKey()\n",
    "\n",
    "img2 = cv2.GaussianBlur(image, (7,7),0)\n",
    "cv2.imshow('Gaussian-Blur',img2)\n",
    "cv2.waitKey()\n",
    "\n",
    "img3 = cv2.medianBlur(image, 5)\n",
    "cv2.imshow('Median-Blur',img3)\n",
    "cv2.waitKey()\n",
    "\n",
    "img4 = cv2.bilateralFilter(image, 9, 75, 75)\n",
    "cv2.imshow('Bilateral-Filter',img4)\n",
    "cv2.waitKey()\n",
    "\n",
    "cv2.destroyAllWindows()"
   ]
  },
  {
   "cell_type": "code",
   "execution_count": 25,
   "id": "d3c5c302",
   "metadata": {},
   "outputs": [],
   "source": [
    "cv2.imshow('Original',image)\n",
    "cv2.waitKey()\n",
    "\n",
    "sharpening_kernel = np.array([[-1,-1,-1],[-1,9,-1],[-1,-1,-1]])\n",
    "sharpen = cv2.filter2D(image, -1, sharpening_kernel)\n",
    "cv2.imshow('Sharpen-Image',sharpen)\n",
    "cv2.waitKey()\n",
    "\n",
    "cv2.destroyAllWindows()"
   ]
  },
  {
   "cell_type": "code",
   "execution_count": null,
   "id": "fe773f8e",
   "metadata": {},
   "outputs": [],
   "source": []
  }
 ],
 "metadata": {
  "kernelspec": {
   "display_name": "Python 3 (ipykernel)",
   "language": "python",
   "name": "python3"
  },
  "language_info": {
   "codemirror_mode": {
    "name": "ipython",
    "version": 3
   },
   "file_extension": ".py",
   "mimetype": "text/x-python",
   "name": "python",
   "nbconvert_exporter": "python",
   "pygments_lexer": "ipython3",
   "version": "3.9.13"
  }
 },
 "nbformat": 4,
 "nbformat_minor": 5
}

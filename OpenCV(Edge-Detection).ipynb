{
 "cells": [
  {
   "cell_type": "code",
   "execution_count": 1,
   "id": "c566502f",
   "metadata": {},
   "outputs": [],
   "source": [
    "import cv2\n",
    "import numpy as np"
   ]
  },
  {
   "cell_type": "code",
   "execution_count": 3,
   "id": "f7243424",
   "metadata": {},
   "outputs": [],
   "source": [
    "image = cv2.imread(r'C:\\Users\\Pavan\\Desktop\\Canada\\DigitalPhoto.jpg')\n",
    "cv2.imshow('Original',image)\n",
    "cv2.waitKey()\n",
    "\n",
    "# Extract sobel edges\n",
    "sobel_x = cv2.Sobel(image, cv2.CV_64F, 0, 1, ksize=5)\n",
    "sobel_y = cv2.Sobel(image, cv2.CV_64F, 1, 0, ksize=5)\n",
    "\n",
    "cv2.imshow(\"Sobel_X\", sobel_x)\n",
    "cv2.waitKey()\n",
    "\n",
    "cv2.imshow(\"Sobel_Y\", sobel_y)\n",
    "cv2.waitKey()\n",
    "\n",
    "sobel_OR = cv2.bitwise_or(sobel_x, sobel_y)\n",
    "cv2.imshow('Sobel-OR', sobel_OR)\n",
    "cv2.waitKey()\n",
    "\n",
    "# Extract Laplacian edges\n",
    "laplacian = cv2.Laplacian(image, cv2.CV_64F)\n",
    "cv2.imshow('Laplatian_Image', laplacian)\n",
    "cv2.waitKey()\n",
    "\n",
    "'''\n",
    "#extract canny edges(#popular edge detection technique)\n",
    "\n",
    "canny = cv2.Canny(image, thresholdValue1, thresholdValue2)\n",
    "\n",
    "Then, we need to provide two values: threshold1 and threshold2.\n",
    "Any gradient value Larger than threshold2 is considered to be an edge. Any value below threshold is considered not to be an edge.\n",
    "Values in between threshold and threshold2 are either classified as edges or non-edges based on how their intensities are \"connected\". \n",
    "In this case, any gradient values below 60 are considered non-edges Whereas any values above 120 are considered edges..\n",
    "'''\n",
    "\n",
    "canny = cv2.Canny(image, 60, 120)\n",
    "cv2.imshow(\"Canny-Edge-Detection\", canny)\n",
    "cv2.waitKey()\n",
    "\n",
    "canny1 = cv2.Canny(image, 120, 200)\n",
    "cv2.imshow(\"Canny-Edge-Detection1\", canny1)\n",
    "cv2.waitKey()\n",
    "\n",
    "cv2.destroyAllWindows()"
   ]
  },
  {
   "cell_type": "code",
   "execution_count": null,
   "id": "7d7a82b6",
   "metadata": {},
   "outputs": [],
   "source": []
  }
 ],
 "metadata": {
  "kernelspec": {
   "display_name": "Python 3 (ipykernel)",
   "language": "python",
   "name": "python3"
  },
  "language_info": {
   "codemirror_mode": {
    "name": "ipython",
    "version": 3
   },
   "file_extension": ".py",
   "mimetype": "text/x-python",
   "name": "python",
   "nbconvert_exporter": "python",
   "pygments_lexer": "ipython3",
   "version": "3.9.13"
  }
 },
 "nbformat": 4,
 "nbformat_minor": 5
}

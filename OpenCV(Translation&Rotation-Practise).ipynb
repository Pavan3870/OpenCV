{
 "cells": [
  {
   "cell_type": "code",
   "execution_count": 1,
   "id": "a0e2bc94",
   "metadata": {},
   "outputs": [],
   "source": [
    "import cv2\n",
    "import numpy as np"
   ]
  },
  {
   "cell_type": "code",
   "execution_count": 2,
   "id": "f61af960",
   "metadata": {},
   "outputs": [],
   "source": [
    "image = cv2.imread(r'C:\\Users\\Pavan\\Desktop\\Canada\\DigitalPhoto.jpg')\n",
    "cv2.imshow('Original',image)\n",
    "cv2.waitKey()\n",
    "\n",
    "#Translation\n",
    "\n",
    "height, width = image.shape[:2]\n",
    "new_h, new_w = height/4, width/4\n",
    "translation_matrix = np.float32([[1, 0, new_h], [0, 1, new_w]])\n",
    "img_translation = cv2.warpAffine(image, translation_matrix, (height, width))\n",
    "cv2.imshow('Traslation',img_translation)\n",
    "cv2.waitKey()\n",
    "\n",
    "cv2.destroyAllWindows()"
   ]
  },
  {
   "cell_type": "code",
   "execution_count": 6,
   "id": "ac7da92f",
   "metadata": {},
   "outputs": [],
   "source": [
    "# Rotation\n",
    "\n",
    "#cv2.getRotationMatrix2D(rotation_center_x, rotation_center_y, angle of rotation, scale)\n",
    "\n",
    "image = cv2.imread(r'C:\\Users\\Pavan\\Desktop\\Canada\\DigitalPhoto.jpg')\n",
    "cv2.imshow('Original',image)\n",
    "cv2.waitKey()\n",
    "\n",
    "height, width = image.shape[:2]\n",
    "new_h, new_w = height/2, width/2\n",
    "rotation_matrix = cv2.getRotationMatrix2D((new_h, new_w), 45, 0.5)\n",
    "rotated_image = cv2.warpAffine(image, rotation_matrix,(height, width))\n",
    "cv2.imshow('Rotated Image',rotated_image)\n",
    "cv2.waitKey()\n",
    "\n",
    "cv2.destroyAllWindows()"
   ]
  },
  {
   "cell_type": "code",
   "execution_count": 7,
   "id": "d115aa67",
   "metadata": {},
   "outputs": [],
   "source": [
    "# cv2.transpose function\n",
    "\n",
    "cv2.imshow('Original',image)\n",
    "cv2.waitKey()\n",
    "\n",
    "rotated_img = cv2.transpose(image)\n",
    "cv2.imshow('Rotated Image', rotated_img)\n",
    "cv2.waitKey()\n",
    "\n",
    "cv2.destroyAllWindows()"
   ]
  },
  {
   "cell_type": "code",
   "execution_count": 9,
   "id": "d31ea0dc",
   "metadata": {},
   "outputs": [],
   "source": [
    "# Flip image\n",
    "\n",
    "cv2.imshow('Original',image)\n",
    "cv2.waitKey()\n",
    "\n",
    "flip_img = cv2.flip(image, -1)\n",
    "cv2.imshow('Flip Image', flip_img)\n",
    "cv2.waitKey()\n",
    "\n",
    "cv2.destroyAllWindows()"
   ]
  },
  {
   "cell_type": "code",
   "execution_count": null,
   "id": "fc240919",
   "metadata": {},
   "outputs": [],
   "source": []
  }
 ],
 "metadata": {
  "kernelspec": {
   "display_name": "Python 3 (ipykernel)",
   "language": "python",
   "name": "python3"
  },
  "language_info": {
   "codemirror_mode": {
    "name": "ipython",
    "version": 3
   },
   "file_extension": ".py",
   "mimetype": "text/x-python",
   "name": "python",
   "nbconvert_exporter": "python",
   "pygments_lexer": "ipython3",
   "version": "3.9.13"
  }
 },
 "nbformat": 4,
 "nbformat_minor": 5
}

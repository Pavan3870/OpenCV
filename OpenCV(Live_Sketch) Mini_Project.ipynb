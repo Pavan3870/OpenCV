{
 "cells": [
  {
   "cell_type": "code",
   "execution_count": 1,
   "id": "daf745c5",
   "metadata": {},
   "outputs": [],
   "source": [
    "import cv2\n",
    "import numpy as np \n",
    "import pandas as pd"
   ]
  },
  {
   "cell_type": "code",
   "execution_count": null,
   "id": "dbc102e0",
   "metadata": {},
   "outputs": [],
   "source": [
    "def sketch(image):\n",
    "    img_gray = cv2.cvtColor(image, cv2.COLOR_BGR2GRAY)\n",
    "    \n",
    "    # Cleaning the image using GaussianBlur\n",
    "    img_blur = cv2.GaussianBlur(img_gray, (5,5), 0)\n",
    "    \n",
    "    # Extract Edges\n",
    "    canny = cv2.Canny(img_blur, 160, 200)\n",
    "    \n",
    "    # Binarize the Image\n",
    "    ret, thresh = cv2.threshold(canny, 40, 255, cv2.THRESH_BINARY_INV)\n",
    "    \n",
    "    return thresh"
   ]
  },
  {
   "cell_type": "code",
   "execution_count": null,
   "id": "2bd8542d",
   "metadata": {},
   "outputs": [],
   "source": [
    "# Initialize the webcam\n",
    "\n",
    "camera = cv2.VideoCapture(0)\n",
    "\n",
    "while True:\n",
    "    ret, frame = camera.read() # ret is a boolean value whether the image is captured or not\n",
    "    cv2.imshow('Pavan-Live_Sketch',sketch(frame))\n",
    "    if cv2.waitKey(1) == 13:       # Here: 13 is Enter key\n",
    "        break\n",
    "\n",
    "camera.release()\n",
    "\n",
    "cv2.destroyAllWindows()\n",
    "    "
   ]
  },
  {
   "cell_type": "code",
   "execution_count": null,
   "id": "63683e3b",
   "metadata": {},
   "outputs": [],
   "source": []
  }
 ],
 "metadata": {
  "kernelspec": {
   "display_name": "Python 3 (ipykernel)",
   "language": "python",
   "name": "python3"
  },
  "language_info": {
   "codemirror_mode": {
    "name": "ipython",
    "version": 3
   },
   "file_extension": ".py",
   "mimetype": "text/x-python",
   "name": "python",
   "nbconvert_exporter": "python",
   "pygments_lexer": "ipython3",
   "version": "3.9.13"
  }
 },
 "nbformat": 4,
 "nbformat_minor": 5
}

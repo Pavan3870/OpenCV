{
 "cells": [
  {
   "cell_type": "code",
   "execution_count": 1,
   "id": "e3231991",
   "metadata": {},
   "outputs": [],
   "source": [
    "import cv2\n",
    "import numpy as np\n",
    "import pandas as pd"
   ]
  },
  {
   "cell_type": "code",
   "execution_count": 4,
   "id": "014b6e7d",
   "metadata": {},
   "outputs": [],
   "source": [
    "'''\n",
    "cv2.INTER_AREA - (GOOD FOR SHRINKING OR DOWN SAMPLING)\n",
    "\n",
    "cv2.INTER_NEAREST - (FASTEST)\n",
    "\n",
    "cv2.INTER_LINEAR - (GOOD FOR ZOOMING OR UP SAMPLING (DEFAULT))\n",
    "\n",
    "cv2.INTER_CUBIC - (BETTER)\n",
    "\n",
    "cv2.INTER_LANCZOS4 - (BEST)\n",
    "'''\n",
    "\n",
    "image = cv2.imread(r'C:\\Users\\Pavan\\Desktop\\Canada\\DigitalPhoto.jpg')\n",
    "cv2.imshow('Original',image)\n",
    "cv2.waitKey()\n",
    "\n",
    "# cv2.resize(image, dsize(Output image size), x scale, y scale, interpolation)\n",
    "\n",
    "image_scaled = cv2.resize(image, None, fx=0.5, fy=0.5)\n",
    "cv2.imshow(\"Re-Sized Image -- Linear Interpolation\", image_scaled)\n",
    "cv2.waitKey()\n",
    "cv2.destroyAllWindows()"
   ]
  },
  {
   "cell_type": "code",
   "execution_count": 5,
   "id": "f1e81877",
   "metadata": {},
   "outputs": [],
   "source": [
    "cv2.imshow('Original',image)\n",
    "cv2.waitKey()\n",
    "\n",
    "# cv2.resize(image, dsize(Output image size), x scale, y scale, interpolation)\n",
    "\n",
    "image_scaled = cv2.resize(image, (500,500), interpolation=cv2.INTER_CUBIC)\n",
    "cv2.imshow(\"Re-Sized Image -- cubic Interpolation\", image_scaled)\n",
    "cv2.waitKey()\n",
    "cv2.destroyAllWindows()"
   ]
  },
  {
   "cell_type": "code",
   "execution_count": 6,
   "id": "9c22b8f2",
   "metadata": {},
   "outputs": [],
   "source": [
    "cv2.imshow('Original',image)\n",
    "cv2.waitKey()\n",
    "\n",
    "# cv2.resize(image, dsize(Output image size), x scale, y scale, interpolation)\n",
    "\n",
    "image_scaled = cv2.resize(image, (500,500), interpolation=cv2.INTER_AREA)\n",
    "cv2.imshow(\"Re-Sized Image -- SKEWED size Interpolation\", image_scaled)\n",
    "cv2.waitKey()\n",
    "cv2.destroyAllWindows()"
   ]
  },
  {
   "cell_type": "code",
   "execution_count": 8,
   "id": "fbeee900",
   "metadata": {},
   "outputs": [],
   "source": [
    "#Cropping\n",
    "\n",
    "# cropped = image[start_row:end_row, start_col:end_col]\n",
    "\n",
    "cv2.imshow('Original',image)\n",
    "cv2.waitKey()\n",
    "\n",
    "height, width = image.shape[:2]\n",
    "start_row, start_col = int(height*0.25), int(width*0.25)\n",
    "end_row, end_col = int(height*0.75), int(width*0.75)\n",
    "cropped = image[start_row:end_row, start_col:end_col]\n",
    "cv2.imshow(\"Cropped_Image\", cropped)\n",
    "cv2.waitKey()\n",
    "cv2.destroyAllWindows()"
   ]
  },
  {
   "cell_type": "code",
   "execution_count": null,
   "id": "f197847b",
   "metadata": {},
   "outputs": [],
   "source": []
  }
 ],
 "metadata": {
  "kernelspec": {
   "display_name": "Python 3 (ipykernel)",
   "language": "python",
   "name": "python3"
  },
  "language_info": {
   "codemirror_mode": {
    "name": "ipython",
    "version": 3
   },
   "file_extension": ".py",
   "mimetype": "text/x-python",
   "name": "python",
   "nbconvert_exporter": "python",
   "pygments_lexer": "ipython3",
   "version": "3.9.13"
  }
 },
 "nbformat": 4,
 "nbformat_minor": 5
}
